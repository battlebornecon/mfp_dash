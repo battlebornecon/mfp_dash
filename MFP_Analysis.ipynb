{
 "cells": [
  {
   "cell_type": "markdown",
   "metadata": {},
   "source": [
    "# Nutritional Analysis and Modeling"
   ]
  },
  {
   "cell_type": "markdown",
   "metadata": {},
   "source": [
    "This notebook is designed to allow people to import their nutritional data from MyFitnessPal using a custom python module developed by coddingbear and made available on GitHub. Once the data is obtained this notebook is designed to allow users to visually analyse it, model the contribution of base macros to caloric intake, and score that model with provided data. The goal is to provide a visual and statistical analysis of nutrition data that can be used by anyone."
   ]
  },
  {
   "cell_type": "code",
   "execution_count": null,
   "outputs": [],
   "source": [
    "!pip install -r requirements.txt"
   ],
   "metadata": {
    "collapsed": false,
    "pycharm": {
     "name": "#%%\n"
    }
   }
  },
  {
   "cell_type": "code",
   "execution_count": null,
   "outputs": [],
   "source": [
    "import pandas as pd\n",
    "import numpy as np\n",
    "import matplotlib as plt\n",
    "import matplotlib.dates as mdates\n",
    "import seaborn as sns\n",
    "from datetime import date, datetime, timedelta\n",
    "from sklearn.model_selection import train_test_split\n",
    "from sklearn.linear_model import LinearRegression\n",
    "import myfitnesspal"
   ],
   "metadata": {
    "collapsed": false,
    "pycharm": {
     "name": "#%%\n"
    }
   }
  },
  {
   "cell_type": "code",
   "execution_count": null,
   "outputs": [],
   "source": [
    "def mfp_df_cleanup(df):\n",
    "    df.dropna(axis='columns', how='all', inplace=True)\n",
    "    col_list = df.columns.to_list()\n",
    "    col_list.remove('date')\n",
    "    col_list.remove('meal')\n",
    "    df[col_list] = df[col_list].astype('float64')\n",
    "    return df\n"
   ],
   "metadata": {
    "collapsed": false,
    "pycharm": {
     "name": "#%%\n"
    }
   }
  },
  {
   "cell_type": "code",
   "execution_count": null,
   "outputs": [],
   "source": [
    "sns.set_style()"
   ],
   "metadata": {
    "collapsed": false,
    "pycharm": {
     "name": "#%%\n"
    }
   }
  },
  {
   "cell_type": "markdown",
   "source": [
    "## Part I: Nutrition Data Analysis"
   ],
   "metadata": {
    "collapsed": false
   }
  },
  {
   "cell_type": "markdown",
   "source": [
    "### Import and Prepare Data"
   ],
   "metadata": {
    "collapsed": false
   }
  },
  {
   "cell_type": "markdown",
   "source": [
    "Enter your username and password for the MyFitnessPal website below"
   ],
   "metadata": {
    "collapsed": false
   }
  },
  {
   "cell_type": "code",
   "execution_count": null,
   "outputs": [],
   "source": [
    "user = ''\n",
    "pwd = ''"
   ],
   "metadata": {
    "collapsed": false,
    "pycharm": {
     "name": "#%%\n"
    }
   }
  },
  {
   "cell_type": "markdown",
   "source": [
    "Set the date range to analyse in the following format: (yyyy,m,d). Please note that the wider the date range, the longer it will take to acquire the data."
   ],
   "metadata": {
    "collapsed": false
   }
  },
  {
   "cell_type": "code",
   "execution_count": null,
   "outputs": [],
   "source": [
    "start_date = date(2021,1,1)\n",
    "end_date = date(2021,12,31)"
   ],
   "metadata": {
    "collapsed": false,
    "pycharm": {
     "name": "#%%\n"
    }
   }
  },
  {
   "cell_type": "code",
   "execution_count": null,
   "outputs": [],
   "source": [
    "df = pd.DataFrame(columns=['date','meal','calories','carbohydrates','fat','protein','sodium','fiber','sugar'])"
   ],
   "metadata": {
    "collapsed": false,
    "pycharm": {
     "name": "#%%\n"
    }
   }
  },
  {
   "cell_type": "code",
   "execution_count": null,
   "outputs": [],
   "source": [
    "client = myfitnesspal.Client(user, password=pwd)"
   ],
   "metadata": {
    "collapsed": false,
    "pycharm": {
     "name": "#%%\n"
    }
   }
  },
  {
   "cell_type": "code",
   "execution_count": null,
   "outputs": [],
   "source": [
    "delta = timedelta(days=1)\n",
    "\n",
    "temp_dict = {}\n",
    "\n",
    "while start_date <= end_date:\n",
    "    day = client.get_date(start_date)\n",
    "    meal = day.keys()\n",
    "    #add loop to obtain totals per meal\n",
    "    #add date and meal to entries\n",
    "    date_value = {'date': day.date.strftime('%Y-%m-%d')}\n",
    "    temp_dict.update(date_value)\n",
    "    i = 0\n",
    "    while i < len(meal):\n",
    "        meal_value = {'meal': meal[i]}\n",
    "        temp_dict.update(meal_value)\n",
    "        temp_dict.update(day.meals[i].totals)\n",
    "        df = df.append(temp_dict, ignore_index=True)\n",
    "        i += 1\n",
    "    start_date += delta\n"
   ],
   "metadata": {
    "collapsed": false,
    "pycharm": {
     "name": "#%%\n"
    }
   }
  },
  {
   "cell_type": "code",
   "execution_count": null,
   "outputs": [],
   "source": [
    "df = mfp_df_cleanup(df)"
   ],
   "metadata": {
    "collapsed": false,
    "pycharm": {
     "name": "#%%\n"
    }
   }
  },
  {
   "cell_type": "code",
   "execution_count": null,
   "outputs": [],
   "source": [
    "df['dateindex'] = pd.to_datetime(df['date'])\n",
    "df = df.set_index(['dateindex'])\n",
    "macro_df = df.groupby(['date','meal']).sum()\n",
    "date_macro_df = macro_df.groupby(['date']).sum()\n",
    "date_macro_df['date'] = date_macro_df.index\n",
    "date_macro_df.reset_index(drop=True, inplace=True)\n",
    "date_macro_df['date']= pd.to_datetime(date_macro_df['date'])\n",
    "date_macro_df.set_index('date',inplace=True)"
   ],
   "metadata": {
    "collapsed": false,
    "pycharm": {
     "name": "#%%\n"
    }
   }
  },
  {
   "cell_type": "code",
   "execution_count": null,
   "outputs": [],
   "source": [
    "macro_cols = ['fat','carbohydrates','protein']"
   ],
   "metadata": {
    "collapsed": false,
    "pycharm": {
     "name": "#%%\n"
    }
   }
  },
  {
   "cell_type": "code",
   "execution_count": null,
   "outputs": [],
   "source": [
    "df.head()"
   ],
   "metadata": {
    "collapsed": false,
    "pycharm": {
     "name": "#%%\n"
    }
   }
  },
  {
   "cell_type": "markdown",
   "source": [
    "### Summarize Data"
   ],
   "metadata": {
    "collapsed": false
   }
  },
  {
   "cell_type": "code",
   "execution_count": null,
   "outputs": [],
   "source": [
    "df.shape"
   ],
   "metadata": {
    "collapsed": false,
    "pycharm": {
     "name": "#%%\n"
    }
   }
  },
  {
   "cell_type": "code",
   "execution_count": null,
   "outputs": [],
   "source": [
    "df.describe().transpose()"
   ],
   "metadata": {
    "collapsed": false,
    "pycharm": {
     "name": "#%%\n"
    }
   }
  },
  {
   "cell_type": "code",
   "execution_count": null,
   "outputs": [],
   "source": [
    "df.groupby(['date']).sum().describe().transpose()"
   ],
   "metadata": {
    "collapsed": false,
    "pycharm": {
     "name": "#%%\n"
    }
   }
  },
  {
   "cell_type": "markdown",
   "source": [
    "\n",
    "### Visualize Data"
   ],
   "metadata": {
    "collapsed": false
   }
  },
  {
   "cell_type": "code",
   "execution_count": null,
   "metadata": {},
   "outputs": [],
   "source": [
    "loc = mdates.MonthLocator(interval=1)\n",
    "fmt = mdates.DateFormatter('%m-%d-%y')\n",
    "\n",
    "df['date'] = pd.to_datetime(df['date'])\n",
    "\n",
    "fig, ax = plt.pyplot.subplots(figsize=(15, 6))\n",
    "df.groupby(['date'])['calories'].sum().plot(kind='line', ax = ax)\n",
    "\n",
    "_ = plt.pyplot.xlabel('Month')\n",
    "_ = plt.pyplot.ylabel('Calories')\n",
    "\n",
    "_ = plt.pyplot.title('Total Calories by Day')\n",
    "\n",
    "ax.xaxis.set_major_locator(loc)\n",
    "ax.xaxis.set_major_formatter(fmt)\n",
    "\n",
    "plt.pyplot.show()"
   ]
  },
  {
   "cell_type": "code",
   "execution_count": null,
   "metadata": {},
   "outputs": [],
   "source": [
    "f = sns.FacetGrid(df, col=\"meal\")\n",
    "f.map(plt.pyplot.hist, 'fat')\n",
    "f.fig.suptitle('Fat Histogram by Meal')\n",
    "f.tight_layout()\n",
    "c = sns.FacetGrid(df, col=\"meal\")\n",
    "c.map(plt.pyplot.hist, 'carbohydrates')\n",
    "c.fig.suptitle('Carbohydrate Histogram by Meal')\n",
    "c.tight_layout()\n",
    "p = sns.FacetGrid(df, col=\"meal\")\n",
    "p.map(plt.pyplot.hist, 'protein')\n",
    "p.fig.suptitle('Protein Histogram by Meal')\n",
    "p.tight_layout()"
   ]
  },
  {
   "cell_type": "code",
   "execution_count": null,
   "metadata": {},
   "outputs": [],
   "source": [
    "pp = sns.pairplot(df, hue='meal')\n",
    "pp.fig.suptitle('Pairplot of All Columns, Colored by Meal',size='large')\n",
    "pp.tight_layout()"
   ]
  },
  {
   "cell_type": "code",
   "execution_count": null,
   "metadata": {},
   "outputs": [],
   "source": [
    "rpp = sns.pairplot(macro_df.groupby('date').sum(),kind='reg')\n",
    "rpp.fig.suptitle('Pairplot of All Columns with Trendline',size='large')\n",
    "rpp.tight_layout()"
   ]
  },
  {
   "cell_type": "code",
   "execution_count": null,
   "metadata": {},
   "outputs": [],
   "source": [
    "ax = plt.pyplot.axes()\n",
    "sns.heatmap(macro_df.groupby('meal')[macro_cols].mean(), ax = ax)\n",
    "ax.set_title('Heatmap of Macros by Meal')\n",
    "plt.pyplot.show()"
   ]
  },
  {
   "cell_type": "code",
   "execution_count": null,
   "metadata": {},
   "outputs": [],
   "source": [
    "fig, ax = plt.pyplot.subplots(figsize=(15, 6))\n",
    "\n",
    "date_macro_df['date'] = pd.to_datetime(date_macro_df.index)\n",
    "date_macro_df.resample(rule='M', on='date')[macro_cols].mean().plot(kind='line', ax = ax)\n",
    "\n",
    "_ = plt.pyplot.xlabel('Month')\n",
    "_ = plt.pyplot.ylabel('Grams')\n",
    "\n",
    "_ = plt.pyplot.title('Average Macros by Month')\n",
    "\n",
    "plt.pyplot.show()"
   ]
  },
  {
   "cell_type": "markdown",
   "metadata": {},
   "source": [
    "### Questions to consider"
   ]
  },
  {
   "cell_type": "markdown",
   "metadata": {},
   "source": [
    "* How are calories distributed by meal?\n",
    "* How strongly correlated are protein, fats, and carbs to calorie intake?\n",
    "* How are fiber, sugar, and sodium intake related to macros?\n",
    "* How do calories vary over time?\n",
    "* Is there an observable trend in peaks and troughs of caloric intake?"
   ]
  },
  {
   "cell_type": "markdown",
   "metadata": {},
   "source": [
    "## Part II: Statistical Modeling "
   ]
  },
  {
   "cell_type": "markdown",
   "metadata": {},
   "source": [
    "### Linear Regression Model - Macros + Fiber, Sugar, and Sodium "
   ]
  },
  {
   "cell_type": "code",
   "execution_count": null,
   "outputs": [],
   "source": [
    "x_cols = date_macro_df.columns.values.tolist()\n",
    "x_cols.remove('calories')"
   ],
   "metadata": {
    "collapsed": false,
    "pycharm": {
     "name": "#%%\n"
    }
   }
  },
  {
   "cell_type": "code",
   "execution_count": null,
   "metadata": {},
   "outputs": [],
   "source": [
    "#regress against key macros to see how changing one impacts others - fat, carb, protein, salt, sugar\n",
    "## calories in as dependent variable - should have issues as there is a known relationship between factors\n",
    "X = date_macro_df[x_cols]\n",
    "\n",
    "cal_reg = LinearRegression().fit(X,date_macro_df['calories'])\n",
    "\n",
    "print('Intercept: \\n', cal_reg.intercept_)\n",
    "print('Coefficients: \\n', cal_reg.coef_)\n",
    "\n",
    "import statsmodels.api as sm\n",
    "X1 = sm.add_constant(X)\n",
    "result = sm.OLS(date_macro_df['calories'], X1).fit()\n",
    "\n",
    "print(result.summary())"
   ]
  },
  {
   "cell_type": "markdown",
   "metadata": {},
   "source": [
    "### Linear Regression Model - Macros Only"
   ]
  },
  {
   "cell_type": "code",
   "execution_count": null,
   "metadata": {},
   "outputs": [],
   "source": [
    "#regress against key macros to see how changing one impacts others - fat, carb, protein, salt, sugar\n",
    "## calories in as dependent variable - should have issues as there is a known relationship between factors\n",
    "X = date_macro_df[macro_cols]\n",
    "\n",
    "cal_reg = LinearRegression().fit(X,date_macro_df['calories'])\n",
    "\n",
    "print('Intercept: \\n', cal_reg.intercept_)\n",
    "print('Coefficients: \\n', cal_reg.coef_)\n",
    "\n",
    "import statsmodels.api as sm\n",
    "X1 = sm.add_constant(X)\n",
    "result = sm.OLS(date_macro_df['calories'], X1).fit()\n",
    "\n",
    "print(result.summary())"
   ]
  },
  {
   "cell_type": "markdown",
   "metadata": {},
   "source": [
    "### Log-Log Linear Regression Model - Macros + Fiber, Sugar, and Sodium "
   ]
  },
  {
   "cell_type": "code",
   "execution_count": null,
   "metadata": {},
   "outputs": [],
   "source": [
    "##log regression\n",
    "date_macro_df_copy = date_macro_df.copy()\n",
    "date_macro_df_copy.replace(to_replace=0,value=1,inplace=True)\n",
    "log_date_macro_df = date_macro_df_copy.apply(np.log,axis=1)"
   ]
  },
  {
   "cell_type": "code",
   "execution_count": null,
   "metadata": {},
   "outputs": [],
   "source": [
    "#regress against key macros to see how changing one impacts others - fat, carb, protein, salt, sugar\n",
    "## calories in as dependent variable - should have issues as there is a known relationship between factors\n",
    "X = log_date_macro_df[x_cols]\n",
    "\n",
    "cal_reg = LinearRegression().fit(X,log_date_macro_df['calories'])\n",
    "\n",
    "print('Intercept: \\n', cal_reg.intercept_)\n",
    "print('Coefficients: \\n', cal_reg.coef_)\n",
    "\n",
    "import statsmodels.api as sm\n",
    "X1 = sm.add_constant(X)\n",
    "result = sm.OLS(log_date_macro_df['calories'], X1).fit()\n",
    "\n",
    "print(result.summary())"
   ]
  },
  {
   "cell_type": "markdown",
   "metadata": {},
   "source": [
    "### Log-Log Linear Regression Model - Macros Only"
   ]
  },
  {
   "cell_type": "code",
   "execution_count": null,
   "metadata": {},
   "outputs": [],
   "source": [
    "#regress against key macros to see how changing one impacts others - fat, carb, protein, salt, sugar\n",
    "## calories in as dependent variable - should have issues as there is a known relationship between factors\n",
    "X = log_date_macro_df[macro_cols]\n",
    "\n",
    "cal_reg = LinearRegression().fit(X,log_date_macro_df['calories'])\n",
    "\n",
    "print('Intercept: \\n', cal_reg.intercept_)\n",
    "print('Coefficients: \\n', cal_reg.coef_)\n",
    "\n",
    "import statsmodels.api as sm\n",
    "X1 = sm.add_constant(X)\n",
    "result = sm.OLS(log_date_macro_df['calories'], X1).fit()\n",
    "\n",
    "\n",
    "print(result.summary())"
   ]
  },
  {
   "cell_type": "markdown",
   "metadata": {},
   "source": [
    "### Questions to consider"
   ]
  },
  {
   "cell_type": "markdown",
   "metadata": {},
   "source": [
    "* Where do I see multicollinearity warnings? This is a sign that two or more variables are highly correlated. Refer back to the correlation matrices to see where that overlap may be.\n",
    "* Do these results align with what I expect? For example, in the standard linear regressions, do I have coefficients of approximately 4 for protein and carbs and 9 for fat?\n",
    "* Are there any areas where the results differ from what I expect? For example, is something highly significant or insignificant in the regressions that should or should not be?"
   ]
  },
  {
   "cell_type": "markdown",
   "metadata": {},
   "source": [
    "## Part III: Predictive Modeling"
   ]
  },
  {
   "cell_type": "code",
   "execution_count": null,
   "metadata": {
    "scrolled": true
   },
   "outputs": [],
   "source": [
    "#apply log log model and score\n",
    "#macro only log-log model\n",
    "X_L = log_date_macro_df[macro_cols]\n",
    "\n",
    "X_train, X_test, Y_train, Y_test = train_test_split(X_L,log_date_macro_df['calories'],test_size=0.30,random_state=0)\n",
    "\n",
    "cal_reg = LinearRegression().fit(X_train,Y_train)\n",
    "\n",
    "y_pred = cal_reg.predict(X_test)\n",
    "\n",
    "#get error values\n",
    "from sklearn import metrics\n",
    "print('Mean Absolute Error:', metrics.mean_absolute_error(Y_test, y_pred))\n",
    "print('Mean Squared Error:', metrics.mean_squared_error(Y_test, y_pred))\n",
    "print('Root Mean Squared Error:', np.sqrt(metrics.mean_squared_error(Y_test, y_pred)))\n",
    "\n",
    "#score test\n",
    "score = cal_reg.score(X_test,Y_test)\n",
    "\n",
    "print('Score: ',score)"
   ]
  },
  {
   "cell_type": "markdown",
   "metadata": {},
   "source": [
    "## Conclusion"
   ]
  },
  {
   "cell_type": "markdown",
   "metadata": {
    "pycharm": {
     "name": "#%% md\n"
    }
   },
   "source": [
    "This notebook started as a project for me to explore some basics of data science and python while looking to answer key questions around my own health and nutrition. This notebook contains the portion of those exercises that I felt had value for a wider audience. For example, in my initial efforts I had access to calorie expenditure from my Fitbit. Using that data with MFP data, I was able to see how closely my results mirrored the calorie-in-calorie-out model. Because this would require additional data sets that 1) I could not guarantee would be accessible to others and 2) could not guarantee would be in an easy to import and/or manipulate format, I chose to omit that work. Likewise, this also meant omitting my time-series regressions using lagged calories burned. As it was not significant, omitting it would make sense even if the calories burned data had been included. I also chose to omit at this time work that I did with normalizing the data prior to running my regressions; while the process was successful, interpretation of the data was significantly more difficult.\n",
    "\n",
    "I hope that this notebook has been successful at helping you review and analyse your nutrition.\n",
    "\n",
    "DK - 1/21/22"
   ]
  }
 ],
 "metadata": {
  "kernelspec": {
   "display_name": "Python 3",
   "language": "python",
   "name": "python3"
  },
  "language_info": {
   "codemirror_mode": {
    "name": "ipython",
    "version": 3
   },
   "file_extension": ".py",
   "mimetype": "text/x-python",
   "name": "python",
   "nbconvert_exporter": "python",
   "pygments_lexer": "ipython3",
   "version": "3.8.8"
  },
  "toc": {
   "base_numbering": 1,
   "nav_menu": {},
   "number_sections": true,
   "sideBar": true,
   "skip_h1_title": false,
   "title_cell": "Table of Contents",
   "title_sidebar": "Contents",
   "toc_cell": false,
   "toc_position": {
    "height": "calc(100% - 180px)",
    "left": "10px",
    "top": "150px",
    "width": "281px"
   },
   "toc_section_display": true,
   "toc_window_display": true
  },
  "varInspector": {
   "cols": {
    "lenName": 16,
    "lenType": 16,
    "lenVar": 40
   },
   "kernels_config": {
    "python": {
     "delete_cmd_postfix": "",
     "delete_cmd_prefix": "del ",
     "library": "var_list.py",
     "varRefreshCmd": "print(var_dic_list())"
    },
    "r": {
     "delete_cmd_postfix": ") ",
     "delete_cmd_prefix": "rm(",
     "library": "var_list.r",
     "varRefreshCmd": "cat(var_dic_list()) "
    }
   },
   "types_to_exclude": [
    "module",
    "function",
    "builtin_function_or_method",
    "instance",
    "_Feature"
   ],
   "window_display": false
  }
 },
 "nbformat": 4,
 "nbformat_minor": 2
}